{
  "nbformat": 4,
  "nbformat_minor": 0,
  "metadata": {
    "colab": {
      "provenance": []
    },
    "kernelspec": {
      "name": "python3",
      "display_name": "Python 3"
    },
    "accelerator": "GPU"
  },
  "cells": [
    {
      "cell_type": "code",
      "metadata": {
        "id": "bziGDEZN-dbf"
      },
      "source": [
        "from google.colab import drive\n",
        "drive.mount('/content/drive')"
      ],
      "execution_count": null,
      "outputs": []
    },
    {
      "cell_type": "code",
      "metadata": {
        "id": "ELD4v_kRlpL3",
        "outputId": "6d0f3b0c-a5d5-49f7-ee01-b73d192ca7d2",
        "colab": {
          "base_uri": "https://localhost:8080/",
          "height": 289
        }
      },
      "source": [
        "import pandas as pd\n",
        "df = pd.read_csv('/content/covid_19_india.csv')\n",
        "df.head()"
      ],
      "execution_count": null,
      "outputs": [
        {
          "output_type": "execute_result",
          "data": {
            "text/html": [
              "<div>\n",
              "<style scoped>\n",
              "    .dataframe tbody tr th:only-of-type {\n",
              "        vertical-align: middle;\n",
              "    }\n",
              "\n",
              "    .dataframe tbody tr th {\n",
              "        vertical-align: top;\n",
              "    }\n",
              "\n",
              "    .dataframe thead th {\n",
              "        text-align: right;\n",
              "    }\n",
              "</style>\n",
              "<table border=\"1\" class=\"dataframe\">\n",
              "  <thead>\n",
              "    <tr style=\"text-align: right;\">\n",
              "      <th></th>\n",
              "      <th>Sno</th>\n",
              "      <th>Date</th>\n",
              "      <th>Time</th>\n",
              "      <th>State/UnionTerritory</th>\n",
              "      <th>ConfirmedIndianNational</th>\n",
              "      <th>ConfirmedForeignNational</th>\n",
              "      <th>Cured</th>\n",
              "      <th>Deaths</th>\n",
              "      <th>Confirmed</th>\n",
              "    </tr>\n",
              "  </thead>\n",
              "  <tbody>\n",
              "    <tr>\n",
              "      <th>0</th>\n",
              "      <td>1</td>\n",
              "      <td>30/01/20</td>\n",
              "      <td>6:00 PM</td>\n",
              "      <td>Kerala</td>\n",
              "      <td>1</td>\n",
              "      <td>0</td>\n",
              "      <td>0</td>\n",
              "      <td>0</td>\n",
              "      <td>1</td>\n",
              "    </tr>\n",
              "    <tr>\n",
              "      <th>1</th>\n",
              "      <td>2</td>\n",
              "      <td>31/01/20</td>\n",
              "      <td>6:00 PM</td>\n",
              "      <td>Kerala</td>\n",
              "      <td>1</td>\n",
              "      <td>0</td>\n",
              "      <td>0</td>\n",
              "      <td>0</td>\n",
              "      <td>1</td>\n",
              "    </tr>\n",
              "    <tr>\n",
              "      <th>2</th>\n",
              "      <td>3</td>\n",
              "      <td>01/02/20</td>\n",
              "      <td>6:00 PM</td>\n",
              "      <td>Kerala</td>\n",
              "      <td>2</td>\n",
              "      <td>0</td>\n",
              "      <td>0</td>\n",
              "      <td>0</td>\n",
              "      <td>2</td>\n",
              "    </tr>\n",
              "    <tr>\n",
              "      <th>3</th>\n",
              "      <td>4</td>\n",
              "      <td>02/02/20</td>\n",
              "      <td>6:00 PM</td>\n",
              "      <td>Kerala</td>\n",
              "      <td>3</td>\n",
              "      <td>0</td>\n",
              "      <td>0</td>\n",
              "      <td>0</td>\n",
              "      <td>3</td>\n",
              "    </tr>\n",
              "    <tr>\n",
              "      <th>4</th>\n",
              "      <td>5</td>\n",
              "      <td>03/02/20</td>\n",
              "      <td>6:00 PM</td>\n",
              "      <td>Kerala</td>\n",
              "      <td>3</td>\n",
              "      <td>0</td>\n",
              "      <td>0</td>\n",
              "      <td>0</td>\n",
              "      <td>3</td>\n",
              "    </tr>\n",
              "  </tbody>\n",
              "</table>\n",
              "</div>"
            ],
            "text/plain": [
              "   Sno      Date     Time  ... Cured Deaths Confirmed\n",
              "0    1  30/01/20  6:00 PM  ...     0      0         1\n",
              "1    2  31/01/20  6:00 PM  ...     0      0         1\n",
              "2    3  01/02/20  6:00 PM  ...     0      0         2\n",
              "3    4  02/02/20  6:00 PM  ...     0      0         3\n",
              "4    5  03/02/20  6:00 PM  ...     0      0         3\n",
              "\n",
              "[5 rows x 9 columns]"
            ]
          },
          "metadata": {
            "tags": []
          },
          "execution_count": 6
        }
      ]
    },
    {
      "cell_type": "code",
      "metadata": {
        "id": "vfnOw180nX6q",
        "outputId": "532de233-96b9-451a-cca8-71fe361a8cef",
        "colab": {
          "base_uri": "https://localhost:8080/"
        }
      },
      "source": [
        "df.shape"
      ],
      "execution_count": null,
      "outputs": [
        {
          "output_type": "execute_result",
          "data": {
            "text/plain": [
              "(7786, 9)"
            ]
          },
          "metadata": {
            "tags": []
          },
          "execution_count": 7
        }
      ]
    },
    {
      "cell_type": "code",
      "metadata": {
        "id": "H35k_LZPnbK6",
        "outputId": "c13ab5e8-a6fb-42e9-b68c-21dde51ae3a8",
        "colab": {
          "base_uri": "https://localhost:8080/",
          "height": 235
        }
      },
      "source": [
        "top_confirmed = df.groupby('State/UnionTerritory')['Confirmed'].sum().sort_values(ascending=False).to_frame()\n",
        "top_confirmed.head()"
      ],
      "execution_count": null,
      "outputs": [
        {
          "output_type": "execute_result",
          "data": {
            "text/html": [
              "<div>\n",
              "<style scoped>\n",
              "    .dataframe tbody tr th:only-of-type {\n",
              "        vertical-align: middle;\n",
              "    }\n",
              "\n",
              "    .dataframe tbody tr th {\n",
              "        vertical-align: top;\n",
              "    }\n",
              "\n",
              "    .dataframe thead th {\n",
              "        text-align: right;\n",
              "    }\n",
              "</style>\n",
              "<table border=\"1\" class=\"dataframe\">\n",
              "  <thead>\n",
              "    <tr style=\"text-align: right;\">\n",
              "      <th></th>\n",
              "      <th>Confirmed</th>\n",
              "    </tr>\n",
              "    <tr>\n",
              "      <th>State/UnionTerritory</th>\n",
              "      <th></th>\n",
              "    </tr>\n",
              "  </thead>\n",
              "  <tbody>\n",
              "    <tr>\n",
              "      <th>Maharashtra</th>\n",
              "      <td>105538919</td>\n",
              "    </tr>\n",
              "    <tr>\n",
              "      <th>Tamil Nadu</th>\n",
              "      <td>50167412</td>\n",
              "    </tr>\n",
              "    <tr>\n",
              "      <th>Andhra Pradesh</th>\n",
              "      <td>48200952</td>\n",
              "    </tr>\n",
              "    <tr>\n",
              "      <th>Karnataka</th>\n",
              "      <td>42342521</td>\n",
              "    </tr>\n",
              "    <tr>\n",
              "      <th>Uttar Pradesh</th>\n",
              "      <td>28088092</td>\n",
              "    </tr>\n",
              "  </tbody>\n",
              "</table>\n",
              "</div>"
            ],
            "text/plain": [
              "                      Confirmed\n",
              "State/UnionTerritory           \n",
              "Maharashtra           105538919\n",
              "Tamil Nadu             50167412\n",
              "Andhra Pradesh         48200952\n",
              "Karnataka              42342521\n",
              "Uttar Pradesh          28088092"
            ]
          },
          "metadata": {
            "tags": []
          },
          "execution_count": 8
        }
      ]
    },
    {
      "cell_type": "code",
      "metadata": {
        "id": "3ddcqqVPns6J",
        "outputId": "48d6668d-5120-401b-ef2b-e3af75ec85e4",
        "colab": {
          "base_uri": "https://localhost:8080/",
          "height": 943
        }
      },
      "source": [
        "top_confirmed.style.background_gradient(cmap='Blues')"
      ],
      "execution_count": null,
      "outputs": [
        {
          "output_type": "execute_result",
          "data": {
            "text/html": [
              "<style  type=\"text/css\" >\n",
              "#T_99c30780_1df7_11eb_8bfd_0242ac1c0002row0_col0{\n",
              "            background-color:  #08306b;\n",
              "            color:  #f1f1f1;\n",
              "        }#T_99c30780_1df7_11eb_8bfd_0242ac1c0002row1_col0{\n",
              "            background-color:  #75b4d8;\n",
              "            color:  #000000;\n",
              "        }#T_99c30780_1df7_11eb_8bfd_0242ac1c0002row2_col0{\n",
              "            background-color:  #7db8da;\n",
              "            color:  #000000;\n",
              "        }#T_99c30780_1df7_11eb_8bfd_0242ac1c0002row3_col0{\n",
              "            background-color:  #94c4df;\n",
              "            color:  #000000;\n",
              "        }#T_99c30780_1df7_11eb_8bfd_0242ac1c0002row4_col0{\n",
              "            background-color:  #c1d9ed;\n",
              "            color:  #000000;\n",
              "        }#T_99c30780_1df7_11eb_8bfd_0242ac1c0002row5_col0{\n",
              "            background-color:  #c8dcf0;\n",
              "            color:  #000000;\n",
              "        }#T_99c30780_1df7_11eb_8bfd_0242ac1c0002row6_col0{\n",
              "            background-color:  #d3e3f3;\n",
              "            color:  #000000;\n",
              "        }#T_99c30780_1df7_11eb_8bfd_0242ac1c0002row7_col0,#T_99c30780_1df7_11eb_8bfd_0242ac1c0002row8_col0{\n",
              "            background-color:  #dceaf6;\n",
              "            color:  #000000;\n",
              "        }#T_99c30780_1df7_11eb_8bfd_0242ac1c0002row9_col0{\n",
              "            background-color:  #ddeaf7;\n",
              "            color:  #000000;\n",
              "        }#T_99c30780_1df7_11eb_8bfd_0242ac1c0002row10_col0{\n",
              "            background-color:  #deebf7;\n",
              "            color:  #000000;\n",
              "        }#T_99c30780_1df7_11eb_8bfd_0242ac1c0002row11_col0,#T_99c30780_1df7_11eb_8bfd_0242ac1c0002row12_col0{\n",
              "            background-color:  #dfecf7;\n",
              "            color:  #000000;\n",
              "        }#T_99c30780_1df7_11eb_8bfd_0242ac1c0002row13_col0{\n",
              "            background-color:  #e3eef8;\n",
              "            color:  #000000;\n",
              "        }#T_99c30780_1df7_11eb_8bfd_0242ac1c0002row14_col0,#T_99c30780_1df7_11eb_8bfd_0242ac1c0002row15_col0{\n",
              "            background-color:  #e6f0f9;\n",
              "            color:  #000000;\n",
              "        }#T_99c30780_1df7_11eb_8bfd_0242ac1c0002row16_col0{\n",
              "            background-color:  #eaf2fb;\n",
              "            color:  #000000;\n",
              "        }#T_99c30780_1df7_11eb_8bfd_0242ac1c0002row17_col0{\n",
              "            background-color:  #eaf3fb;\n",
              "            color:  #000000;\n",
              "        }#T_99c30780_1df7_11eb_8bfd_0242ac1c0002row18_col0{\n",
              "            background-color:  #edf4fc;\n",
              "            color:  #000000;\n",
              "        }#T_99c30780_1df7_11eb_8bfd_0242ac1c0002row19_col0{\n",
              "            background-color:  #eef5fc;\n",
              "            color:  #000000;\n",
              "        }#T_99c30780_1df7_11eb_8bfd_0242ac1c0002row20_col0{\n",
              "            background-color:  #f2f7fd;\n",
              "            color:  #000000;\n",
              "        }#T_99c30780_1df7_11eb_8bfd_0242ac1c0002row21_col0{\n",
              "            background-color:  #f3f8fe;\n",
              "            color:  #000000;\n",
              "        }#T_99c30780_1df7_11eb_8bfd_0242ac1c0002row22_col0,#T_99c30780_1df7_11eb_8bfd_0242ac1c0002row23_col0{\n",
              "            background-color:  #f4f9fe;\n",
              "            color:  #000000;\n",
              "        }#T_99c30780_1df7_11eb_8bfd_0242ac1c0002row24_col0,#T_99c30780_1df7_11eb_8bfd_0242ac1c0002row25_col0,#T_99c30780_1df7_11eb_8bfd_0242ac1c0002row26_col0{\n",
              "            background-color:  #f5fafe;\n",
              "            color:  #000000;\n",
              "        }#T_99c30780_1df7_11eb_8bfd_0242ac1c0002row27_col0,#T_99c30780_1df7_11eb_8bfd_0242ac1c0002row28_col0,#T_99c30780_1df7_11eb_8bfd_0242ac1c0002row29_col0{\n",
              "            background-color:  #f6faff;\n",
              "            color:  #000000;\n",
              "        }#T_99c30780_1df7_11eb_8bfd_0242ac1c0002row30_col0,#T_99c30780_1df7_11eb_8bfd_0242ac1c0002row31_col0,#T_99c30780_1df7_11eb_8bfd_0242ac1c0002row32_col0,#T_99c30780_1df7_11eb_8bfd_0242ac1c0002row33_col0,#T_99c30780_1df7_11eb_8bfd_0242ac1c0002row34_col0,#T_99c30780_1df7_11eb_8bfd_0242ac1c0002row35_col0,#T_99c30780_1df7_11eb_8bfd_0242ac1c0002row36_col0,#T_99c30780_1df7_11eb_8bfd_0242ac1c0002row37_col0,#T_99c30780_1df7_11eb_8bfd_0242ac1c0002row38_col0,#T_99c30780_1df7_11eb_8bfd_0242ac1c0002row39_col0,#T_99c30780_1df7_11eb_8bfd_0242ac1c0002row40_col0,#T_99c30780_1df7_11eb_8bfd_0242ac1c0002row41_col0{\n",
              "            background-color:  #f7fbff;\n",
              "            color:  #000000;\n",
              "        }</style><table id=\"T_99c30780_1df7_11eb_8bfd_0242ac1c0002\" ><thead>    <tr>        <th class=\"blank level0\" ></th>        <th class=\"col_heading level0 col0\" >Confirmed</th>    </tr>    <tr>        <th class=\"index_name level0\" >State/UnionTerritory</th>        <th class=\"blank\" ></th>    </tr></thead><tbody>\n",
              "                <tr>\n",
              "                        <th id=\"T_99c30780_1df7_11eb_8bfd_0242ac1c0002level0_row0\" class=\"row_heading level0 row0\" >Maharashtra</th>\n",
              "                        <td id=\"T_99c30780_1df7_11eb_8bfd_0242ac1c0002row0_col0\" class=\"data row0 col0\" >105538919</td>\n",
              "            </tr>\n",
              "            <tr>\n",
              "                        <th id=\"T_99c30780_1df7_11eb_8bfd_0242ac1c0002level0_row1\" class=\"row_heading level0 row1\" >Tamil Nadu</th>\n",
              "                        <td id=\"T_99c30780_1df7_11eb_8bfd_0242ac1c0002row1_col0\" class=\"data row1 col0\" >50167412</td>\n",
              "            </tr>\n",
              "            <tr>\n",
              "                        <th id=\"T_99c30780_1df7_11eb_8bfd_0242ac1c0002level0_row2\" class=\"row_heading level0 row2\" >Andhra Pradesh</th>\n",
              "                        <td id=\"T_99c30780_1df7_11eb_8bfd_0242ac1c0002row2_col0\" class=\"data row2 col0\" >48200952</td>\n",
              "            </tr>\n",
              "            <tr>\n",
              "                        <th id=\"T_99c30780_1df7_11eb_8bfd_0242ac1c0002level0_row3\" class=\"row_heading level0 row3\" >Karnataka</th>\n",
              "                        <td id=\"T_99c30780_1df7_11eb_8bfd_0242ac1c0002row3_col0\" class=\"data row3 col0\" >42342521</td>\n",
              "            </tr>\n",
              "            <tr>\n",
              "                        <th id=\"T_99c30780_1df7_11eb_8bfd_0242ac1c0002level0_row4\" class=\"row_heading level0 row4\" >Uttar Pradesh</th>\n",
              "                        <td id=\"T_99c30780_1df7_11eb_8bfd_0242ac1c0002row4_col0\" class=\"data row4 col0\" >28088092</td>\n",
              "            </tr>\n",
              "            <tr>\n",
              "                        <th id=\"T_99c30780_1df7_11eb_8bfd_0242ac1c0002level0_row5\" class=\"row_heading level0 row5\" >Delhi</th>\n",
              "                        <td id=\"T_99c30780_1df7_11eb_8bfd_0242ac1c0002row5_col0\" class=\"data row5 col0\" >25301742</td>\n",
              "            </tr>\n",
              "            <tr>\n",
              "                        <th id=\"T_99c30780_1df7_11eb_8bfd_0242ac1c0002level0_row6\" class=\"row_heading level0 row6\" >West Bengal</th>\n",
              "                        <td id=\"T_99c30780_1df7_11eb_8bfd_0242ac1c0002row6_col0\" class=\"data row6 col0\" >19567105</td>\n",
              "            </tr>\n",
              "            <tr>\n",
              "                        <th id=\"T_99c30780_1df7_11eb_8bfd_0242ac1c0002level0_row7\" class=\"row_heading level0 row7\" >Odisha</th>\n",
              "                        <td id=\"T_99c30780_1df7_11eb_8bfd_0242ac1c0002row7_col0\" class=\"data row7 col0\" >14164794</td>\n",
              "            </tr>\n",
              "            <tr>\n",
              "                        <th id=\"T_99c30780_1df7_11eb_8bfd_0242ac1c0002level0_row8\" class=\"row_heading level0 row8\" >Bihar</th>\n",
              "                        <td id=\"T_99c30780_1df7_11eb_8bfd_0242ac1c0002row8_col0\" class=\"data row8 col0\" >14139595</td>\n",
              "            </tr>\n",
              "            <tr>\n",
              "                        <th id=\"T_99c30780_1df7_11eb_8bfd_0242ac1c0002level0_row9\" class=\"row_heading level0 row9\" >Telengana</th>\n",
              "                        <td id=\"T_99c30780_1df7_11eb_8bfd_0242ac1c0002row9_col0\" class=\"data row9 col0\" >13781886</td>\n",
              "            </tr>\n",
              "            <tr>\n",
              "                        <th id=\"T_99c30780_1df7_11eb_8bfd_0242ac1c0002level0_row10\" class=\"row_heading level0 row10\" >Kerala</th>\n",
              "                        <td id=\"T_99c30780_1df7_11eb_8bfd_0242ac1c0002row10_col0\" class=\"data row10 col0\" >13533997</td>\n",
              "            </tr>\n",
              "            <tr>\n",
              "                        <th id=\"T_99c30780_1df7_11eb_8bfd_0242ac1c0002level0_row11\" class=\"row_heading level0 row11\" >Assam</th>\n",
              "                        <td id=\"T_99c30780_1df7_11eb_8bfd_0242ac1c0002row11_col0\" class=\"data row11 col0\" >12661117</td>\n",
              "            </tr>\n",
              "            <tr>\n",
              "                        <th id=\"T_99c30780_1df7_11eb_8bfd_0242ac1c0002level0_row12\" class=\"row_heading level0 row12\" >Gujarat</th>\n",
              "                        <td id=\"T_99c30780_1df7_11eb_8bfd_0242ac1c0002row12_col0\" class=\"data row12 col0\" >12505593</td>\n",
              "            </tr>\n",
              "            <tr>\n",
              "                        <th id=\"T_99c30780_1df7_11eb_8bfd_0242ac1c0002level0_row13\" class=\"row_heading level0 row13\" >Rajasthan</th>\n",
              "                        <td id=\"T_99c30780_1df7_11eb_8bfd_0242ac1c0002row13_col0\" class=\"data row13 col0\" >10867315</td>\n",
              "            </tr>\n",
              "            <tr>\n",
              "                        <th id=\"T_99c30780_1df7_11eb_8bfd_0242ac1c0002level0_row14\" class=\"row_heading level0 row14\" >Madhya Pradesh</th>\n",
              "                        <td id=\"T_99c30780_1df7_11eb_8bfd_0242ac1c0002row14_col0\" class=\"data row14 col0\" >9408126</td>\n",
              "            </tr>\n",
              "            <tr>\n",
              "                        <th id=\"T_99c30780_1df7_11eb_8bfd_0242ac1c0002level0_row15\" class=\"row_heading level0 row15\" >Haryana</th>\n",
              "                        <td id=\"T_99c30780_1df7_11eb_8bfd_0242ac1c0002row15_col0\" class=\"data row15 col0\" >9269153</td>\n",
              "            </tr>\n",
              "            <tr>\n",
              "                        <th id=\"T_99c30780_1df7_11eb_8bfd_0242ac1c0002level0_row16\" class=\"row_heading level0 row16\" >Punjab</th>\n",
              "                        <td id=\"T_99c30780_1df7_11eb_8bfd_0242ac1c0002row16_col0\" class=\"data row16 col0\" >7305871</td>\n",
              "            </tr>\n",
              "            <tr>\n",
              "                        <th id=\"T_99c30780_1df7_11eb_8bfd_0242ac1c0002level0_row17\" class=\"row_heading level0 row17\" >Chhattisgarh</th>\n",
              "                        <td id=\"T_99c30780_1df7_11eb_8bfd_0242ac1c0002row17_col0\" class=\"data row17 col0\" >6790022</td>\n",
              "            </tr>\n",
              "            <tr>\n",
              "                        <th id=\"T_99c30780_1df7_11eb_8bfd_0242ac1c0002level0_row18\" class=\"row_heading level0 row18\" >Jammu and Kashmir</th>\n",
              "                        <td id=\"T_99c30780_1df7_11eb_8bfd_0242ac1c0002row18_col0\" class=\"data row18 col0\" >5417186</td>\n",
              "            </tr>\n",
              "            <tr>\n",
              "                        <th id=\"T_99c30780_1df7_11eb_8bfd_0242ac1c0002level0_row19\" class=\"row_heading level0 row19\" >Jharkhand</th>\n",
              "                        <td id=\"T_99c30780_1df7_11eb_8bfd_0242ac1c0002row19_col0\" class=\"data row19 col0\" >5346147</td>\n",
              "            </tr>\n",
              "            <tr>\n",
              "                        <th id=\"T_99c30780_1df7_11eb_8bfd_0242ac1c0002level0_row20\" class=\"row_heading level0 row20\" >Uttarakhand</th>\n",
              "                        <td id=\"T_99c30780_1df7_11eb_8bfd_0242ac1c0002row20_col0\" class=\"data row20 col0\" >3092164</td>\n",
              "            </tr>\n",
              "            <tr>\n",
              "                        <th id=\"T_99c30780_1df7_11eb_8bfd_0242ac1c0002level0_row21\" class=\"row_heading level0 row21\" >Goa</th>\n",
              "                        <td id=\"T_99c30780_1df7_11eb_8bfd_0242ac1c0002row21_col0\" class=\"data row21 col0\" >2265168</td>\n",
              "            </tr>\n",
              "            <tr>\n",
              "                        <th id=\"T_99c30780_1df7_11eb_8bfd_0242ac1c0002level0_row22\" class=\"row_heading level0 row22\" >Puducherry</th>\n",
              "                        <td id=\"T_99c30780_1df7_11eb_8bfd_0242ac1c0002row22_col0\" class=\"data row22 col0\" >1776066</td>\n",
              "            </tr>\n",
              "            <tr>\n",
              "                        <th id=\"T_99c30780_1df7_11eb_8bfd_0242ac1c0002level0_row23\" class=\"row_heading level0 row23\" >Tripura</th>\n",
              "                        <td id=\"T_99c30780_1df7_11eb_8bfd_0242ac1c0002row23_col0\" class=\"data row23 col0\" >1709637</td>\n",
              "            </tr>\n",
              "            <tr>\n",
              "                        <th id=\"T_99c30780_1df7_11eb_8bfd_0242ac1c0002level0_row24\" class=\"row_heading level0 row24\" >Telangana</th>\n",
              "                        <td id=\"T_99c30780_1df7_11eb_8bfd_0242ac1c0002row24_col0\" class=\"data row24 col0\" >1077182</td>\n",
              "            </tr>\n",
              "            <tr>\n",
              "                        <th id=\"T_99c30780_1df7_11eb_8bfd_0242ac1c0002level0_row25\" class=\"row_heading level0 row25\" >Himachal Pradesh</th>\n",
              "                        <td id=\"T_99c30780_1df7_11eb_8bfd_0242ac1c0002row25_col0\" class=\"data row25 col0\" >982711</td>\n",
              "            </tr>\n",
              "            <tr>\n",
              "                        <th id=\"T_99c30780_1df7_11eb_8bfd_0242ac1c0002level0_row26\" class=\"row_heading level0 row26\" >Manipur</th>\n",
              "                        <td id=\"T_99c30780_1df7_11eb_8bfd_0242ac1c0002row26_col0\" class=\"data row26 col0\" >833255</td>\n",
              "            </tr>\n",
              "            <tr>\n",
              "                        <th id=\"T_99c30780_1df7_11eb_8bfd_0242ac1c0002level0_row27\" class=\"row_heading level0 row27\" >Chandigarh</th>\n",
              "                        <td id=\"T_99c30780_1df7_11eb_8bfd_0242ac1c0002row27_col0\" class=\"data row27 col0\" >711347</td>\n",
              "            </tr>\n",
              "            <tr>\n",
              "                        <th id=\"T_99c30780_1df7_11eb_8bfd_0242ac1c0002level0_row28\" class=\"row_heading level0 row28\" >Arunachal Pradesh</th>\n",
              "                        <td id=\"T_99c30780_1df7_11eb_8bfd_0242ac1c0002row28_col0\" class=\"data row28 col0\" >637050</td>\n",
              "            </tr>\n",
              "            <tr>\n",
              "                        <th id=\"T_99c30780_1df7_11eb_8bfd_0242ac1c0002level0_row29\" class=\"row_heading level0 row29\" >Nagaland</th>\n",
              "                        <td id=\"T_99c30780_1df7_11eb_8bfd_0242ac1c0002row29_col0\" class=\"data row29 col0\" >480615</td>\n",
              "            </tr>\n",
              "            <tr>\n",
              "                        <th id=\"T_99c30780_1df7_11eb_8bfd_0242ac1c0002level0_row30\" class=\"row_heading level0 row30\" >Meghalaya</th>\n",
              "                        <td id=\"T_99c30780_1df7_11eb_8bfd_0242ac1c0002row30_col0\" class=\"data row30 col0\" >384180</td>\n",
              "            </tr>\n",
              "            <tr>\n",
              "                        <th id=\"T_99c30780_1df7_11eb_8bfd_0242ac1c0002level0_row31\" class=\"row_heading level0 row31\" >Ladakh</th>\n",
              "                        <td id=\"T_99c30780_1df7_11eb_8bfd_0242ac1c0002row31_col0\" class=\"data row31 col0\" >357010</td>\n",
              "            </tr>\n",
              "            <tr>\n",
              "                        <th id=\"T_99c30780_1df7_11eb_8bfd_0242ac1c0002level0_row32\" class=\"row_heading level0 row32\" >Cases being reassigned to states</th>\n",
              "                        <td id=\"T_99c30780_1df7_11eb_8bfd_0242ac1c0002row32_col0\" class=\"data row32 col0\" >345565</td>\n",
              "            </tr>\n",
              "            <tr>\n",
              "                        <th id=\"T_99c30780_1df7_11eb_8bfd_0242ac1c0002level0_row33\" class=\"row_heading level0 row33\" >Andaman and Nicobar Islands</th>\n",
              "                        <td id=\"T_99c30780_1df7_11eb_8bfd_0242ac1c0002row33_col0\" class=\"data row33 col0\" >287887</td>\n",
              "            </tr>\n",
              "            <tr>\n",
              "                        <th id=\"T_99c30780_1df7_11eb_8bfd_0242ac1c0002level0_row34\" class=\"row_heading level0 row34\" >Dadra and Nagar Haveli and Daman and Diu</th>\n",
              "                        <td id=\"T_99c30780_1df7_11eb_8bfd_0242ac1c0002row34_col0\" class=\"data row34 col0\" >242811</td>\n",
              "            </tr>\n",
              "            <tr>\n",
              "                        <th id=\"T_99c30780_1df7_11eb_8bfd_0242ac1c0002level0_row35\" class=\"row_heading level0 row35\" >Sikkim</th>\n",
              "                        <td id=\"T_99c30780_1df7_11eb_8bfd_0242ac1c0002row35_col0\" class=\"data row35 col0\" >204479</td>\n",
              "            </tr>\n",
              "            <tr>\n",
              "                        <th id=\"T_99c30780_1df7_11eb_8bfd_0242ac1c0002level0_row36\" class=\"row_heading level0 row36\" >Mizoram</th>\n",
              "                        <td id=\"T_99c30780_1df7_11eb_8bfd_0242ac1c0002row36_col0\" class=\"data row36 col0\" >137892</td>\n",
              "            </tr>\n",
              "            <tr>\n",
              "                        <th id=\"T_99c30780_1df7_11eb_8bfd_0242ac1c0002level0_row37\" class=\"row_heading level0 row37\" >Telengana***</th>\n",
              "                        <td id=\"T_99c30780_1df7_11eb_8bfd_0242ac1c0002row37_col0\" class=\"data row37 col0\" >57142</td>\n",
              "            </tr>\n",
              "            <tr>\n",
              "                        <th id=\"T_99c30780_1df7_11eb_8bfd_0242ac1c0002level0_row38\" class=\"row_heading level0 row38\" >Telangana***</th>\n",
              "                        <td id=\"T_99c30780_1df7_11eb_8bfd_0242ac1c0002row38_col0\" class=\"data row38 col0\" >52466</td>\n",
              "            </tr>\n",
              "            <tr>\n",
              "                        <th id=\"T_99c30780_1df7_11eb_8bfd_0242ac1c0002level0_row39\" class=\"row_heading level0 row39\" >Dadar Nagar Haveli</th>\n",
              "                        <td id=\"T_99c30780_1df7_11eb_8bfd_0242ac1c0002row39_col0\" class=\"data row39 col0\" >186</td>\n",
              "            </tr>\n",
              "            <tr>\n",
              "                        <th id=\"T_99c30780_1df7_11eb_8bfd_0242ac1c0002level0_row40\" class=\"row_heading level0 row40\" >Unassigned</th>\n",
              "                        <td id=\"T_99c30780_1df7_11eb_8bfd_0242ac1c0002row40_col0\" class=\"data row40 col0\" >161</td>\n",
              "            </tr>\n",
              "            <tr>\n",
              "                        <th id=\"T_99c30780_1df7_11eb_8bfd_0242ac1c0002level0_row41\" class=\"row_heading level0 row41\" >Daman & Diu</th>\n",
              "                        <td id=\"T_99c30780_1df7_11eb_8bfd_0242ac1c0002row41_col0\" class=\"data row41 col0\" >2</td>\n",
              "            </tr>\n",
              "    </tbody></table>"
            ],
            "text/plain": [
              "<pandas.io.formats.style.Styler at 0x7f688b7bab00>"
            ]
          },
          "metadata": {
            "tags": []
          },
          "execution_count": 9
        }
      ]
    },
    {
      "cell_type": "code",
      "metadata": {
        "id": "Hgn8tHpOofzE"
      },
      "source": [
        "df = df.sort_values('Confirmed',ascending=False)"
      ],
      "execution_count": null,
      "outputs": []
    },
    {
      "cell_type": "code",
      "metadata": {
        "id": "LnFhsE6gooye",
        "outputId": "7b42f29c-b67f-4101-9607-423d6fdee925",
        "colab": {
          "base_uri": "https://localhost:8080/",
          "height": 619
        }
      },
      "source": [
        "import matplotlib.pyplot as plt\n",
        "import seaborn as sns\n",
        "plt.figure(figsize=(10,8))\n",
        "sns.barplot(df['Confirmed'],df['State/UnionTerritory'],color='red',label='Confirmed',alpha=0.5)\n",
        "sns.barplot(df['Cured'],df['State/UnionTerritory'],color='green',label='Cured')\n",
        "sns.barplot(df['Deaths'],df['State/UnionTerritory'],color='yellow',label='Deaths')\n",
        "plt.legend(loc=4)\n",
        "plt.show()"
      ],
      "execution_count": null,
      "outputs": [
        {
          "output_type": "stream",
          "text": [
            "/usr/local/lib/python3.6/dist-packages/seaborn/_decorators.py:43: FutureWarning: Pass the following variables as keyword args: x, y. From version 0.12, the only valid positional argument will be `data`, and passing other arguments without an explicit keyword will result in an error or misinterpretation.\n",
            "  FutureWarning\n",
            "/usr/local/lib/python3.6/dist-packages/seaborn/_decorators.py:43: FutureWarning: Pass the following variables as keyword args: x, y. From version 0.12, the only valid positional argument will be `data`, and passing other arguments without an explicit keyword will result in an error or misinterpretation.\n",
            "  FutureWarning\n",
            "/usr/local/lib/python3.6/dist-packages/seaborn/_decorators.py:43: FutureWarning: Pass the following variables as keyword args: x, y. From version 0.12, the only valid positional argument will be `data`, and passing other arguments without an explicit keyword will result in an error or misinterpretation.\n",
            "  FutureWarning\n"
          ],
          "name": "stderr"
        },
        {
          "output_type": "display_data",
          "data": {
            "image/png": "[encoded data removed]",
            "text/plain": [
              "<Figure size 720x576 with 1 Axes>"
            ]
          },
          "metadata": {
            "tags": [],
            "needs_background": "light"
          }
        }
      ]
    },
    {
      "cell_type": "code",
      "metadata": {
        "id": "WEf_rhbXpfAs",
        "outputId": "95f10400-2c0e-49b8-ca1f-d5b5cada2c4a",
        "colab": {
          "base_uri": "https://localhost:8080/",
          "height": 289
        }
      },
      "source": [
        "covid = pd.read_csv('/content/covid_19_clean_complete.csv',parse_dates=['Date'])\n",
        "covid.head(5)"
      ],
      "execution_count": null,
      "outputs": [
        {
          "output_type": "execute_result",
          "data": {
            "text/html": [
              "<div>\n",
              "<style scoped>\n",
              "    .dataframe tbody tr th:only-of-type {\n",
              "        vertical-align: middle;\n",
              "    }\n",
              "\n",
              "    .dataframe tbody tr th {\n",
              "        vertical-align: top;\n",
              "    }\n",
              "\n",
              "    .dataframe thead th {\n",
              "        text-align: right;\n",
              "    }\n",
              "</style>\n",
              "<table border=\"1\" class=\"dataframe\">\n",
              "  <thead>\n",
              "    <tr style=\"text-align: right;\">\n",
              "      <th></th>\n",
              "      <th>Province/State</th>\n",
              "      <th>Country/Region</th>\n",
              "      <th>Lat</th>\n",
              "      <th>Long</th>\n",
              "      <th>Date</th>\n",
              "      <th>Confirmed</th>\n",
              "      <th>Deaths</th>\n",
              "      <th>Recovered</th>\n",
              "      <th>Active</th>\n",
              "      <th>WHO Region</th>\n",
              "    </tr>\n",
              "  </thead>\n",
              "  <tbody>\n",
              "    <tr>\n",
              "      <th>0</th>\n",
              "      <td>NaN</td>\n",
              "      <td>Afghanistan</td>\n",
              "      <td>33.93911</td>\n",
              "      <td>67.709953</td>\n",
              "      <td>2020-01-22</td>\n",
              "      <td>0</td>\n",
              "      <td>0</td>\n",
              "      <td>0</td>\n",
              "      <td>0.0</td>\n",
              "      <td>Eastern Mediterranean</td>\n",
              "    </tr>\n",
              "    <tr>\n",
              "      <th>1</th>\n",
              "      <td>NaN</td>\n",
              "      <td>Albania</td>\n",
              "      <td>41.15330</td>\n",
              "      <td>20.168300</td>\n",
              "      <td>2020-01-22</td>\n",
              "      <td>0</td>\n",
              "      <td>0</td>\n",
              "      <td>0</td>\n",
              "      <td>0.0</td>\n",
              "      <td>Europe</td>\n",
              "    </tr>\n",
              "    <tr>\n",
              "      <th>2</th>\n",
              "      <td>NaN</td>\n",
              "      <td>Algeria</td>\n",
              "      <td>28.03390</td>\n",
              "      <td>1.659600</td>\n",
              "      <td>2020-01-22</td>\n",
              "      <td>0</td>\n",
              "      <td>0</td>\n",
              "      <td>0</td>\n",
              "      <td>0.0</td>\n",
              "      <td>Africa</td>\n",
              "    </tr>\n",
              "    <tr>\n",
              "      <th>3</th>\n",
              "      <td>NaN</td>\n",
              "      <td>Andorra</td>\n",
              "      <td>42.50630</td>\n",
              "      <td>1.521800</td>\n",
              "      <td>2020-01-22</td>\n",
              "      <td>0</td>\n",
              "      <td>0</td>\n",
              "      <td>0</td>\n",
              "      <td>0.0</td>\n",
              "      <td>Europe</td>\n",
              "    </tr>\n",
              "    <tr>\n",
              "      <th>4</th>\n",
              "      <td>NaN</td>\n",
              "      <td>Angola</td>\n",
              "      <td>-11.20270</td>\n",
              "      <td>17.873900</td>\n",
              "      <td>2020-01-22</td>\n",
              "      <td>0</td>\n",
              "      <td>0</td>\n",
              "      <td>0</td>\n",
              "      <td>0.0</td>\n",
              "      <td>Africa</td>\n",
              "    </tr>\n",
              "  </tbody>\n",
              "</table>\n",
              "</div>"
            ],
            "text/plain": [
              "  Province/State Country/Region  ...  Active             WHO Region\n",
              "0            NaN    Afghanistan  ...     0.0  Eastern Mediterranean\n",
              "1            NaN        Albania  ...     0.0                 Europe\n",
              "2            NaN        Algeria  ...     0.0                 Africa\n",
              "3            NaN        Andorra  ...     0.0                 Europe\n",
              "4            NaN         Angola  ...     0.0                 Africa\n",
              "\n",
              "[5 rows x 10 columns]"
            ]
          },
          "metadata": {
            "tags": []
          },
          "execution_count": 14
        }
      ]
    },
    {
      "cell_type": "code",
      "metadata": {
        "id": "M8qGXrZzqtZo",
        "outputId": "9d26a234-7b84-46f8-c4a9-d19b5b50d72e",
        "colab": {
          "base_uri": "https://localhost:8080/",
          "height": 289
        }
      },
      "source": [
        "covid['Active'] = covid['Confirmed'] - covid['Recovered'] - covid['Deaths']\n",
        "covid.head()"
      ],
      "execution_count": null,
      "outputs": [
        {
          "output_type": "execute_result",
          "data": {
            "text/html": [
              "<div>\n",
              "<style scoped>\n",
              "    .dataframe tbody tr th:only-of-type {\n",
              "        vertical-align: middle;\n",
              "    }\n",
              "\n",
              "    .dataframe tbody tr th {\n",
              "        vertical-align: top;\n",
              "    }\n",
              "\n",
              "    .dataframe thead th {\n",
              "        text-align: right;\n",
              "    }\n",
              "</style>\n",
              "<table border=\"1\" class=\"dataframe\">\n",
              "  <thead>\n",
              "    <tr style=\"text-align: right;\">\n",
              "      <th></th>\n",
              "      <th>Province/State</th>\n",
              "      <th>Country/Region</th>\n",
              "      <th>Lat</th>\n",
              "      <th>Long</th>\n",
              "      <th>Date</th>\n",
              "      <th>Confirmed</th>\n",
              "      <th>Deaths</th>\n",
              "      <th>Recovered</th>\n",
              "      <th>Active</th>\n",
              "      <th>WHO Region</th>\n",
              "    </tr>\n",
              "  </thead>\n",
              "  <tbody>\n",
              "    <tr>\n",
              "      <th>0</th>\n",
              "      <td>NaN</td>\n",
              "      <td>Afghanistan</td>\n",
              "      <td>33.93911</td>\n",
              "      <td>67.709953</td>\n",
              "      <td>2020-01-22</td>\n",
              "      <td>0</td>\n",
              "      <td>0</td>\n",
              "      <td>0</td>\n",
              "      <td>0</td>\n",
              "      <td>Eastern Mediterranean</td>\n",
              "    </tr>\n",
              "    <tr>\n",
              "      <th>1</th>\n",
              "      <td>NaN</td>\n",
              "      <td>Albania</td>\n",
              "      <td>41.15330</td>\n",
              "      <td>20.168300</td>\n",
              "      <td>2020-01-22</td>\n",
              "      <td>0</td>\n",
              "      <td>0</td>\n",
              "      <td>0</td>\n",
              "      <td>0</td>\n",
              "      <td>Europe</td>\n",
              "    </tr>\n",
              "    <tr>\n",
              "      <th>2</th>\n",
              "      <td>NaN</td>\n",
              "      <td>Algeria</td>\n",
              "      <td>28.03390</td>\n",
              "      <td>1.659600</td>\n",
              "      <td>2020-01-22</td>\n",
              "      <td>0</td>\n",
              "      <td>0</td>\n",
              "      <td>0</td>\n",
              "      <td>0</td>\n",
              "      <td>Africa</td>\n",
              "    </tr>\n",
              "    <tr>\n",
              "      <th>3</th>\n",
              "      <td>NaN</td>\n",
              "      <td>Andorra</td>\n",
              "      <td>42.50630</td>\n",
              "      <td>1.521800</td>\n",
              "      <td>2020-01-22</td>\n",
              "      <td>0</td>\n",
              "      <td>0</td>\n",
              "      <td>0</td>\n",
              "      <td>0</td>\n",
              "      <td>Europe</td>\n",
              "    </tr>\n",
              "    <tr>\n",
              "      <th>4</th>\n",
              "      <td>NaN</td>\n",
              "      <td>Angola</td>\n",
              "      <td>-11.20270</td>\n",
              "      <td>17.873900</td>\n",
              "      <td>2020-01-22</td>\n",
              "      <td>0</td>\n",
              "      <td>0</td>\n",
              "      <td>0</td>\n",
              "      <td>0</td>\n",
              "      <td>Africa</td>\n",
              "    </tr>\n",
              "  </tbody>\n",
              "</table>\n",
              "</div>"
            ],
            "text/plain": [
              "  Province/State Country/Region  ...  Active             WHO Region\n",
              "0            NaN    Afghanistan  ...       0  Eastern Mediterranean\n",
              "1            NaN        Albania  ...       0                 Europe\n",
              "2            NaN        Algeria  ...       0                 Africa\n",
              "3            NaN        Andorra  ...       0                 Europe\n",
              "4            NaN         Angola  ...       0                 Africa\n",
              "\n",
              "[5 rows x 10 columns]"
            ]
          },
          "metadata": {
            "tags": []
          },
          "execution_count": 27
        }
      ]
    },
    {
      "cell_type": "code",
      "metadata": {
        "id": "b86A5fuyrGbG"
      },
      "source": [
        "df = covid[covid['Country/Region'] == 'India']"
      ],
      "execution_count": null,
      "outputs": []
    },
    {
      "cell_type": "code",
      "metadata": {
        "id": "p0s2hRBOrRs6"
      },
      "source": [
        "active = df.groupby('Date')['Active'].sum().reset_index()\n",
        "confirmed = df.groupby('Date')['Confirmed'].sum().reset_index()"
      ],
      "execution_count": null,
      "outputs": []
    },
    {
      "cell_type": "code",
      "metadata": {
        "id": "c2LWrmVqrrcZ",
        "outputId": "aa9c495a-53d4-4ebf-f1b9-1f865c8dec6c",
        "colab": {
          "base_uri": "https://localhost:8080/",
          "height": 204
        }
      },
      "source": [
        "active.tail()"
      ],
      "execution_count": null,
      "outputs": [
        {
          "output_type": "execute_result",
          "data": {
            "text/html": [
              "<div>\n",
              "<style scoped>\n",
              "    .dataframe tbody tr th:only-of-type {\n",
              "        vertical-align: middle;\n",
              "    }\n",
              "\n",
              "    .dataframe tbody tr th {\n",
              "        vertical-align: top;\n",
              "    }\n",
              "\n",
              "    .dataframe thead th {\n",
              "        text-align: right;\n",
              "    }\n",
              "</style>\n",
              "<table border=\"1\" class=\"dataframe\">\n",
              "  <thead>\n",
              "    <tr style=\"text-align: right;\">\n",
              "      <th></th>\n",
              "      <th>Date</th>\n",
              "      <th>Active</th>\n",
              "    </tr>\n",
              "  </thead>\n",
              "  <tbody>\n",
              "    <tr>\n",
              "      <th>117</th>\n",
              "      <td>2020-05-18</td>\n",
              "      <td>57939.0</td>\n",
              "    </tr>\n",
              "    <tr>\n",
              "      <th>118</th>\n",
              "      <td>2020-05-19</td>\n",
              "      <td>60864.0</td>\n",
              "    </tr>\n",
              "    <tr>\n",
              "      <th>119</th>\n",
              "      <td>2020-05-20</td>\n",
              "      <td>63172.0</td>\n",
              "    </tr>\n",
              "    <tr>\n",
              "      <th>120</th>\n",
              "      <td>2020-05-21</td>\n",
              "      <td>66089.0</td>\n",
              "    </tr>\n",
              "    <tr>\n",
              "      <th>121</th>\n",
              "      <td>2020-05-22</td>\n",
              "      <td>69244.0</td>\n",
              "    </tr>\n",
              "  </tbody>\n",
              "</table>\n",
              "</div>"
            ],
            "text/plain": [
              "          Date   Active\n",
              "117 2020-05-18  57939.0\n",
              "118 2020-05-19  60864.0\n",
              "119 2020-05-20  63172.0\n",
              "120 2020-05-21  66089.0\n",
              "121 2020-05-22  69244.0"
            ]
          },
          "metadata": {
            "tags": []
          },
          "execution_count": 17
        }
      ]
    },
    {
      "cell_type": "code",
      "metadata": {
        "id": "ZGly_R4ertzO",
        "outputId": "9852c87f-c865-4574-d2b0-a4b4fa3c7798",
        "colab": {
          "base_uri": "https://localhost:8080/",
          "height": 204
        }
      },
      "source": [
        "confirmed.tail()"
      ],
      "execution_count": null,
      "outputs": [
        {
          "output_type": "execute_result",
          "data": {
            "text/html": [
              "<div>\n",
              "<style scoped>\n",
              "    .dataframe tbody tr th:only-of-type {\n",
              "        vertical-align: middle;\n",
              "    }\n",
              "\n",
              "    .dataframe tbody tr th {\n",
              "        vertical-align: top;\n",
              "    }\n",
              "\n",
              "    .dataframe thead th {\n",
              "        text-align: right;\n",
              "    }\n",
              "</style>\n",
              "<table border=\"1\" class=\"dataframe\">\n",
              "  <thead>\n",
              "    <tr style=\"text-align: right;\">\n",
              "      <th></th>\n",
              "      <th>Date</th>\n",
              "      <th>Confirmed</th>\n",
              "    </tr>\n",
              "  </thead>\n",
              "  <tbody>\n",
              "    <tr>\n",
              "      <th>117</th>\n",
              "      <td>2020-05-18</td>\n",
              "      <td>100328</td>\n",
              "    </tr>\n",
              "    <tr>\n",
              "      <th>118</th>\n",
              "      <td>2020-05-19</td>\n",
              "      <td>106475</td>\n",
              "    </tr>\n",
              "    <tr>\n",
              "      <th>119</th>\n",
              "      <td>2020-05-20</td>\n",
              "      <td>112028</td>\n",
              "    </tr>\n",
              "    <tr>\n",
              "      <th>120</th>\n",
              "      <td>2020-05-21</td>\n",
              "      <td>118226</td>\n",
              "    </tr>\n",
              "    <tr>\n",
              "      <th>121</th>\n",
              "      <td>2020-05-22</td>\n",
              "      <td>124794</td>\n",
              "    </tr>\n",
              "  </tbody>\n",
              "</table>\n",
              "</div>"
            ],
            "text/plain": [
              "          Date  Confirmed\n",
              "117 2020-05-18     100328\n",
              "118 2020-05-19     106475\n",
              "119 2020-05-20     112028\n",
              "120 2020-05-21     118226\n",
              "121 2020-05-22     124794"
            ]
          },
          "metadata": {
            "tags": []
          },
          "execution_count": 18
        }
      ]
    },
    {
      "cell_type": "code",
      "metadata": {
        "id": "gVY8D086r2F0"
      },
      "source": [
        "active.rename(columns={'Date':'ds','Active':'y'},inplace=True)"
      ],
      "execution_count": null,
      "outputs": []
    },
    {
      "cell_type": "code",
      "metadata": {
        "id": "N1R79VZrzkHp",
        "outputId": "f2e0e9fe-7053-41b3-feb8-878361090639",
        "colab": {
          "base_uri": "https://localhost:8080/",
          "height": 204
        }
      },
      "source": [
        "active.head(5)"
      ],
      "execution_count": null,
      "outputs": [
        {
          "output_type": "execute_result",
          "data": {
            "text/html": [
              "<div>\n",
              "<style scoped>\n",
              "    .dataframe tbody tr th:only-of-type {\n",
              "        vertical-align: middle;\n",
              "    }\n",
              "\n",
              "    .dataframe tbody tr th {\n",
              "        vertical-align: top;\n",
              "    }\n",
              "\n",
              "    .dataframe thead th {\n",
              "        text-align: right;\n",
              "    }\n",
              "</style>\n",
              "<table border=\"1\" class=\"dataframe\">\n",
              "  <thead>\n",
              "    <tr style=\"text-align: right;\">\n",
              "      <th></th>\n",
              "      <th>ds</th>\n",
              "      <th>y</th>\n",
              "    </tr>\n",
              "  </thead>\n",
              "  <tbody>\n",
              "    <tr>\n",
              "      <th>0</th>\n",
              "      <td>2020-01-22</td>\n",
              "      <td>0.0</td>\n",
              "    </tr>\n",
              "    <tr>\n",
              "      <th>1</th>\n",
              "      <td>2020-01-23</td>\n",
              "      <td>0.0</td>\n",
              "    </tr>\n",
              "    <tr>\n",
              "      <th>2</th>\n",
              "      <td>2020-01-24</td>\n",
              "      <td>0.0</td>\n",
              "    </tr>\n",
              "    <tr>\n",
              "      <th>3</th>\n",
              "      <td>2020-01-25</td>\n",
              "      <td>0.0</td>\n",
              "    </tr>\n",
              "    <tr>\n",
              "      <th>4</th>\n",
              "      <td>2020-01-26</td>\n",
              "      <td>0.0</td>\n",
              "    </tr>\n",
              "  </tbody>\n",
              "</table>\n",
              "</div>"
            ],
            "text/plain": [
              "          ds    y\n",
              "0 2020-01-22  0.0\n",
              "1 2020-01-23  0.0\n",
              "2 2020-01-24  0.0\n",
              "3 2020-01-25  0.0\n",
              "4 2020-01-26  0.0"
            ]
          },
          "metadata": {
            "tags": []
          },
          "execution_count": 20
        }
      ]
    },
    {
      "cell_type": "code",
      "metadata": {
        "id": "LQYMv-5Lz2rs"
      },
      "source": [
        "from fbprophet import Prophet"
      ],
      "execution_count": null,
      "outputs": []
    },
    {
      "cell_type": "code",
      "metadata": {
        "id": "TXJ_2bSNz-2R"
      },
      "source": [
        "model = Prophet(daily_seasonality=True)"
      ],
      "execution_count": null,
      "outputs": []
    },
    {
      "cell_type": "code",
      "metadata": {
        "id": "c8fymP_N0jF6",
        "outputId": "95189190-3072-4c1f-bccb-22324b2153b5",
        "colab": {
          "base_uri": "https://localhost:8080/"
        }
      },
      "source": [
        "model.fit(active)"
      ],
      "execution_count": null,
      "outputs": [
        {
          "output_type": "stream",
          "text": [
            "INFO:numexpr.utils:NumExpr defaulting to 2 threads.\n",
            "INFO:fbprophet:Disabling yearly seasonality. Run prophet with yearly_seasonality=True to override this.\n"
          ],
          "name": "stderr"
        },
        {
          "output_type": "execute_result",
          "data": {
            "text/plain": [
              "<fbprophet.forecaster.Prophet at 0x7f688021f0f0>"
            ]
          },
          "metadata": {
            "tags": []
          },
          "execution_count": 23
        }
      ]
    },
    {
      "cell_type": "code",
      "metadata": {
        "id": "mCfIw0z40wGp",
        "outputId": "01329bb8-3967-4d70-f774-4fa1661dba06",
        "colab": {
          "base_uri": "https://localhost:8080/",
          "height": 204
        }
      },
      "source": [
        "future = model.make_future_dataframe(periods=7)\n",
        "future.tail()"
      ],
      "execution_count": null,
      "outputs": [
        {
          "output_type": "execute_result",
          "data": {
            "text/html": [
              "<div>\n",
              "<style scoped>\n",
              "    .dataframe tbody tr th:only-of-type {\n",
              "        vertical-align: middle;\n",
              "    }\n",
              "\n",
              "    .dataframe tbody tr th {\n",
              "        vertical-align: top;\n",
              "    }\n",
              "\n",
              "    .dataframe thead th {\n",
              "        text-align: right;\n",
              "    }\n",
              "</style>\n",
              "<table border=\"1\" class=\"dataframe\">\n",
              "  <thead>\n",
              "    <tr style=\"text-align: right;\">\n",
              "      <th></th>\n",
              "      <th>ds</th>\n",
              "    </tr>\n",
              "  </thead>\n",
              "  <tbody>\n",
              "    <tr>\n",
              "      <th>124</th>\n",
              "      <td>2020-05-25</td>\n",
              "    </tr>\n",
              "    <tr>\n",
              "      <th>125</th>\n",
              "      <td>2020-05-26</td>\n",
              "    </tr>\n",
              "    <tr>\n",
              "      <th>126</th>\n",
              "      <td>2020-05-27</td>\n",
              "    </tr>\n",
              "    <tr>\n",
              "      <th>127</th>\n",
              "      <td>2020-05-28</td>\n",
              "    </tr>\n",
              "    <tr>\n",
              "      <th>128</th>\n",
              "      <td>2020-05-29</td>\n",
              "    </tr>\n",
              "  </tbody>\n",
              "</table>\n",
              "</div>"
            ],
            "text/plain": [
              "            ds\n",
              "124 2020-05-25\n",
              "125 2020-05-26\n",
              "126 2020-05-27\n",
              "127 2020-05-28\n",
              "128 2020-05-29"
            ]
          },
          "metadata": {
            "tags": []
          },
          "execution_count": 24
        }
      ]
    },
    {
      "cell_type": "code",
      "metadata": {
        "id": "xNLHM3Xj18kO"
      },
      "source": [
        "forecasting = model.predict(future)"
      ],
      "execution_count": null,
      "outputs": []
    },
    {
      "cell_type": "code",
      "metadata": {
        "id": "eYgK4Pe62Psd",
        "outputId": "8014aad4-5736-4e97-fc0a-fe4e13138d6c",
        "colab": {
          "base_uri": "https://localhost:8080/",
          "height": 405
        }
      },
      "source": [
        "forecasting.tail(7)"
      ],
      "execution_count": null,
      "outputs": [
        {
          "output_type": "execute_result",
          "data": {
            "text/html": [
              "<div>\n",
              "<style scoped>\n",
              "    .dataframe tbody tr th:only-of-type {\n",
              "        vertical-align: middle;\n",
              "    }\n",
              "\n",
              "    .dataframe tbody tr th {\n",
              "        vertical-align: top;\n",
              "    }\n",
              "\n",
              "    .dataframe thead th {\n",
              "        text-align: right;\n",
              "    }\n",
              "</style>\n",
              "<table border=\"1\" class=\"dataframe\">\n",
              "  <thead>\n",
              "    <tr style=\"text-align: right;\">\n",
              "      <th></th>\n",
              "      <th>ds</th>\n",
              "      <th>trend</th>\n",
              "      <th>yhat_lower</th>\n",
              "      <th>yhat_upper</th>\n",
              "      <th>trend_lower</th>\n",
              "      <th>trend_upper</th>\n",
              "      <th>additive_terms</th>\n",
              "      <th>additive_terms_lower</th>\n",
              "      <th>additive_terms_upper</th>\n",
              "      <th>daily</th>\n",
              "      <th>daily_lower</th>\n",
              "      <th>daily_upper</th>\n",
              "      <th>weekly</th>\n",
              "      <th>weekly_lower</th>\n",
              "      <th>weekly_upper</th>\n",
              "      <th>multiplicative_terms</th>\n",
              "      <th>multiplicative_terms_lower</th>\n",
              "      <th>multiplicative_terms_upper</th>\n",
              "      <th>yhat</th>\n",
              "    </tr>\n",
              "  </thead>\n",
              "  <tbody>\n",
              "    <tr>\n",
              "      <th>122</th>\n",
              "      <td>2020-05-23</td>\n",
              "      <td>68012.038396</td>\n",
              "      <td>67128.744486</td>\n",
              "      <td>68535.278065</td>\n",
              "      <td>68012.038396</td>\n",
              "      <td>68013.506569</td>\n",
              "      <td>-192.972430</td>\n",
              "      <td>-192.972430</td>\n",
              "      <td>-192.972430</td>\n",
              "      <td>-31.846855</td>\n",
              "      <td>-31.846855</td>\n",
              "      <td>-31.846855</td>\n",
              "      <td>-161.125575</td>\n",
              "      <td>-161.125575</td>\n",
              "      <td>-161.125575</td>\n",
              "      <td>0.0</td>\n",
              "      <td>0.0</td>\n",
              "      <td>0.0</td>\n",
              "      <td>67819.065966</td>\n",
              "    </tr>\n",
              "    <tr>\n",
              "      <th>123</th>\n",
              "      <td>2020-05-24</td>\n",
              "      <td>69865.852506</td>\n",
              "      <td>69083.653188</td>\n",
              "      <td>70463.934579</td>\n",
              "      <td>69839.341294</td>\n",
              "      <td>69907.040310</td>\n",
              "      <td>-98.501504</td>\n",
              "      <td>-98.501504</td>\n",
              "      <td>-98.501504</td>\n",
              "      <td>-31.846855</td>\n",
              "      <td>-31.846855</td>\n",
              "      <td>-31.846855</td>\n",
              "      <td>-66.654648</td>\n",
              "      <td>-66.654648</td>\n",
              "      <td>-66.654648</td>\n",
              "      <td>0.0</td>\n",
              "      <td>0.0</td>\n",
              "      <td>0.0</td>\n",
              "      <td>69767.351002</td>\n",
              "    </tr>\n",
              "    <tr>\n",
              "      <th>124</th>\n",
              "      <td>2020-05-25</td>\n",
              "      <td>71719.666616</td>\n",
              "      <td>71050.058653</td>\n",
              "      <td>72399.311816</td>\n",
              "      <td>71631.430941</td>\n",
              "      <td>71816.217940</td>\n",
              "      <td>7.929842</td>\n",
              "      <td>7.929842</td>\n",
              "      <td>7.929842</td>\n",
              "      <td>-31.846855</td>\n",
              "      <td>-31.846855</td>\n",
              "      <td>-31.846855</td>\n",
              "      <td>39.776698</td>\n",
              "      <td>39.776698</td>\n",
              "      <td>39.776698</td>\n",
              "      <td>0.0</td>\n",
              "      <td>0.0</td>\n",
              "      <td>0.0</td>\n",
              "      <td>71727.596458</td>\n",
              "    </tr>\n",
              "    <tr>\n",
              "      <th>125</th>\n",
              "      <td>2020-05-26</td>\n",
              "      <td>73573.480726</td>\n",
              "      <td>72829.322996</td>\n",
              "      <td>74241.149461</td>\n",
              "      <td>73404.688301</td>\n",
              "      <td>73746.810188</td>\n",
              "      <td>-13.758831</td>\n",
              "      <td>-13.758831</td>\n",
              "      <td>-13.758831</td>\n",
              "      <td>-31.846855</td>\n",
              "      <td>-31.846855</td>\n",
              "      <td>-31.846855</td>\n",
              "      <td>18.088024</td>\n",
              "      <td>18.088024</td>\n",
              "      <td>18.088024</td>\n",
              "      <td>0.0</td>\n",
              "      <td>0.0</td>\n",
              "      <td>0.0</td>\n",
              "      <td>73559.721894</td>\n",
              "    </tr>\n",
              "    <tr>\n",
              "      <th>126</th>\n",
              "      <td>2020-05-27</td>\n",
              "      <td>75427.294835</td>\n",
              "      <td>74665.713835</td>\n",
              "      <td>76275.356962</td>\n",
              "      <td>75166.429627</td>\n",
              "      <td>75710.768687</td>\n",
              "      <td>-13.146549</td>\n",
              "      <td>-13.146549</td>\n",
              "      <td>-13.146549</td>\n",
              "      <td>-31.846855</td>\n",
              "      <td>-31.846855</td>\n",
              "      <td>-31.846855</td>\n",
              "      <td>18.700306</td>\n",
              "      <td>18.700306</td>\n",
              "      <td>18.700306</td>\n",
              "      <td>0.0</td>\n",
              "      <td>0.0</td>\n",
              "      <td>0.0</td>\n",
              "      <td>75414.148286</td>\n",
              "    </tr>\n",
              "    <tr>\n",
              "      <th>127</th>\n",
              "      <td>2020-05-28</td>\n",
              "      <td>77281.108945</td>\n",
              "      <td>76550.102716</td>\n",
              "      <td>78192.881624</td>\n",
              "      <td>76914.826032</td>\n",
              "      <td>77667.054367</td>\n",
              "      <td>36.128129</td>\n",
              "      <td>36.128129</td>\n",
              "      <td>36.128129</td>\n",
              "      <td>-31.846855</td>\n",
              "      <td>-31.846855</td>\n",
              "      <td>-31.846855</td>\n",
              "      <td>67.974984</td>\n",
              "      <td>67.974984</td>\n",
              "      <td>67.974984</td>\n",
              "      <td>0.0</td>\n",
              "      <td>0.0</td>\n",
              "      <td>0.0</td>\n",
              "      <td>77317.237074</td>\n",
              "    </tr>\n",
              "    <tr>\n",
              "      <th>128</th>\n",
              "      <td>2020-05-29</td>\n",
              "      <td>79134.923055</td>\n",
              "      <td>78322.062274</td>\n",
              "      <td>80026.793395</td>\n",
              "      <td>78676.153915</td>\n",
              "      <td>79617.517240</td>\n",
              "      <td>51.393356</td>\n",
              "      <td>51.393356</td>\n",
              "      <td>51.393356</td>\n",
              "      <td>-31.846855</td>\n",
              "      <td>-31.846855</td>\n",
              "      <td>-31.846855</td>\n",
              "      <td>83.240211</td>\n",
              "      <td>83.240211</td>\n",
              "      <td>83.240211</td>\n",
              "      <td>0.0</td>\n",
              "      <td>0.0</td>\n",
              "      <td>0.0</td>\n",
              "      <td>79186.316411</td>\n",
              "    </tr>\n",
              "  </tbody>\n",
              "</table>\n",
              "</div>"
            ],
            "text/plain": [
              "            ds         trend  ...  multiplicative_terms_upper          yhat\n",
              "122 2020-05-23  68012.038396  ...                         0.0  67819.065966\n",
              "123 2020-05-24  69865.852506  ...                         0.0  69767.351002\n",
              "124 2020-05-25  71719.666616  ...                         0.0  71727.596458\n",
              "125 2020-05-26  73573.480726  ...                         0.0  73559.721894\n",
              "126 2020-05-27  75427.294835  ...                         0.0  75414.148286\n",
              "127 2020-05-28  77281.108945  ...                         0.0  77317.237074\n",
              "128 2020-05-29  79134.923055  ...                         0.0  79186.316411\n",
              "\n",
              "[7 rows x 19 columns]"
            ]
          },
          "metadata": {
            "tags": []
          },
          "execution_count": 26
        }
      ]
    },
    {
      "cell_type": "code",
      "metadata": {
        "id": "fteIvQCF2Thy",
        "outputId": "51702924-44a3-4128-ea1b-2c50fb43ba03",
        "colab": {
          "base_uri": "https://localhost:8080/",
          "height": 266
        }
      },
      "source": [
        "forecasting[['ds','trend','yhat_lower','yhat_upper']].tail(7)"
      ],
      "execution_count": null,
      "outputs": [
        {
          "output_type": "execute_result",
          "data": {
            "text/html": [
              "<div>\n",
              "<style scoped>\n",
              "    .dataframe tbody tr th:only-of-type {\n",
              "        vertical-align: middle;\n",
              "    }\n",
              "\n",
              "    .dataframe tbody tr th {\n",
              "        vertical-align: top;\n",
              "    }\n",
              "\n",
              "    .dataframe thead th {\n",
              "        text-align: right;\n",
              "    }\n",
              "</style>\n",
              "<table border=\"1\" class=\"dataframe\">\n",
              "  <thead>\n",
              "    <tr style=\"text-align: right;\">\n",
              "      <th></th>\n",
              "      <th>ds</th>\n",
              "      <th>trend</th>\n",
              "      <th>yhat_lower</th>\n",
              "      <th>yhat_upper</th>\n",
              "    </tr>\n",
              "  </thead>\n",
              "  <tbody>\n",
              "    <tr>\n",
              "      <th>122</th>\n",
              "      <td>2020-05-23</td>\n",
              "      <td>68012.038396</td>\n",
              "      <td>67128.744486</td>\n",
              "      <td>68535.278065</td>\n",
              "    </tr>\n",
              "    <tr>\n",
              "      <th>123</th>\n",
              "      <td>2020-05-24</td>\n",
              "      <td>69865.852506</td>\n",
              "      <td>69083.653188</td>\n",
              "      <td>70463.934579</td>\n",
              "    </tr>\n",
              "    <tr>\n",
              "      <th>124</th>\n",
              "      <td>2020-05-25</td>\n",
              "      <td>71719.666616</td>\n",
              "      <td>71050.058653</td>\n",
              "      <td>72399.311816</td>\n",
              "    </tr>\n",
              "    <tr>\n",
              "      <th>125</th>\n",
              "      <td>2020-05-26</td>\n",
              "      <td>73573.480726</td>\n",
              "      <td>72829.322996</td>\n",
              "      <td>74241.149461</td>\n",
              "    </tr>\n",
              "    <tr>\n",
              "      <th>126</th>\n",
              "      <td>2020-05-27</td>\n",
              "      <td>75427.294835</td>\n",
              "      <td>74665.713835</td>\n",
              "      <td>76275.356962</td>\n",
              "    </tr>\n",
              "    <tr>\n",
              "      <th>127</th>\n",
              "      <td>2020-05-28</td>\n",
              "      <td>77281.108945</td>\n",
              "      <td>76550.102716</td>\n",
              "      <td>78192.881624</td>\n",
              "    </tr>\n",
              "    <tr>\n",
              "      <th>128</th>\n",
              "      <td>2020-05-29</td>\n",
              "      <td>79134.923055</td>\n",
              "      <td>78322.062274</td>\n",
              "      <td>80026.793395</td>\n",
              "    </tr>\n",
              "  </tbody>\n",
              "</table>\n",
              "</div>"
            ],
            "text/plain": [
              "            ds         trend    yhat_lower    yhat_upper\n",
              "122 2020-05-23  68012.038396  67128.744486  68535.278065\n",
              "123 2020-05-24  69865.852506  69083.653188  70463.934579\n",
              "124 2020-05-25  71719.666616  71050.058653  72399.311816\n",
              "125 2020-05-26  73573.480726  72829.322996  74241.149461\n",
              "126 2020-05-27  75427.294835  74665.713835  76275.356962\n",
              "127 2020-05-28  77281.108945  76550.102716  78192.881624\n",
              "128 2020-05-29  79134.923055  78322.062274  80026.793395"
            ]
          },
          "metadata": {
            "tags": []
          },
          "execution_count": 29
        }
      ]
    },
    {
      "cell_type": "code",
      "metadata": {
        "id": "GrlINS2X2qpQ",
        "outputId": "b9cc2325-5bed-4237-d57b-21c12289fa96",
        "colab": {
          "base_uri": "https://localhost:8080/",
          "height": 441
        }
      },
      "source": [
        "active_plot = model.plot(forecasting)"
      ],
      "execution_count": null,
      "outputs": [
        {
          "output_type": "display_data",
          "data": {
            "image/png": "[encoded data removed]",
            "text/plain": [
              "<Figure size 720x432 with 1 Axes>"
            ]
          },
          "metadata": {
            "tags": []
          }
        }
      ]
    },
    {
      "cell_type": "code",
      "metadata": {
        "id": "EU4mOYqZ3I7m"
      },
      "source": [
        "confirmed.rename(columns={'Date':'ds','Confirmed':'y'},inplace=True)"
      ],
      "execution_count": null,
      "outputs": []
    },
    {
      "cell_type": "code",
      "metadata": {
        "id": "TDunXm4z59sJ",
        "outputId": "695bd6b0-7cab-498a-b9b1-9f7283b51a7c",
        "colab": {
          "base_uri": "https://localhost:8080/",
          "height": 419
        }
      },
      "source": [
        "confirmed"
      ],
      "execution_count": null,
      "outputs": [
        {
          "output_type": "execute_result",
          "data": {
            "text/html": [
              "<div>\n",
              "<style scoped>\n",
              "    .dataframe tbody tr th:only-of-type {\n",
              "        vertical-align: middle;\n",
              "    }\n",
              "\n",
              "    .dataframe tbody tr th {\n",
              "        vertical-align: top;\n",
              "    }\n",
              "\n",
              "    .dataframe thead th {\n",
              "        text-align: right;\n",
              "    }\n",
              "</style>\n",
              "<table border=\"1\" class=\"dataframe\">\n",
              "  <thead>\n",
              "    <tr style=\"text-align: right;\">\n",
              "      <th></th>\n",
              "      <th>ds</th>\n",
              "      <th>y</th>\n",
              "    </tr>\n",
              "  </thead>\n",
              "  <tbody>\n",
              "    <tr>\n",
              "      <th>0</th>\n",
              "      <td>2020-01-22</td>\n",
              "      <td>0</td>\n",
              "    </tr>\n",
              "    <tr>\n",
              "      <th>1</th>\n",
              "      <td>2020-01-23</td>\n",
              "      <td>0</td>\n",
              "    </tr>\n",
              "    <tr>\n",
              "      <th>2</th>\n",
              "      <td>2020-01-24</td>\n",
              "      <td>0</td>\n",
              "    </tr>\n",
              "    <tr>\n",
              "      <th>3</th>\n",
              "      <td>2020-01-25</td>\n",
              "      <td>0</td>\n",
              "    </tr>\n",
              "    <tr>\n",
              "      <th>4</th>\n",
              "      <td>2020-01-26</td>\n",
              "      <td>0</td>\n",
              "    </tr>\n",
              "    <tr>\n",
              "      <th>...</th>\n",
              "      <td>...</td>\n",
              "      <td>...</td>\n",
              "    </tr>\n",
              "    <tr>\n",
              "      <th>117</th>\n",
              "      <td>2020-05-18</td>\n",
              "      <td>100328</td>\n",
              "    </tr>\n",
              "    <tr>\n",
              "      <th>118</th>\n",
              "      <td>2020-05-19</td>\n",
              "      <td>106475</td>\n",
              "    </tr>\n",
              "    <tr>\n",
              "      <th>119</th>\n",
              "      <td>2020-05-20</td>\n",
              "      <td>112028</td>\n",
              "    </tr>\n",
              "    <tr>\n",
              "      <th>120</th>\n",
              "      <td>2020-05-21</td>\n",
              "      <td>118226</td>\n",
              "    </tr>\n",
              "    <tr>\n",
              "      <th>121</th>\n",
              "      <td>2020-05-22</td>\n",
              "      <td>124794</td>\n",
              "    </tr>\n",
              "  </tbody>\n",
              "</table>\n",
              "<p>122 rows × 2 columns</p>\n",
              "</div>"
            ],
            "text/plain": [
              "            ds       y\n",
              "0   2020-01-22       0\n",
              "1   2020-01-23       0\n",
              "2   2020-01-24       0\n",
              "3   2020-01-25       0\n",
              "4   2020-01-26       0\n",
              "..         ...     ...\n",
              "117 2020-05-18  100328\n",
              "118 2020-05-19  106475\n",
              "119 2020-05-20  112028\n",
              "120 2020-05-21  118226\n",
              "121 2020-05-22  124794\n",
              "\n",
              "[122 rows x 2 columns]"
            ]
          },
          "metadata": {
            "tags": []
          },
          "execution_count": 32
        }
      ]
    },
    {
      "cell_type": "code",
      "metadata": {
        "id": "-fXcy96q3zF9",
        "outputId": "973c6caa-48ca-4153-c01e-8c8ee63dd95d",
        "colab": {
          "base_uri": "https://localhost:8080/"
        }
      },
      "source": [
        "model = Prophet(daily_seasonality=True, interval_width=0.95)   #confidance level\n",
        "model.fit(confirmed)"
      ],
      "execution_count": null,
      "outputs": [
        {
          "output_type": "stream",
          "text": [
            "INFO:fbprophet:Disabling yearly seasonality. Run prophet with yearly_seasonality=True to override this.\n"
          ],
          "name": "stderr"
        },
        {
          "output_type": "execute_result",
          "data": {
            "text/plain": [
              "<fbprophet.forecaster.Prophet at 0x7f6880349630>"
            ]
          },
          "metadata": {
            "tags": []
          },
          "execution_count": 33
        }
      ]
    },
    {
      "cell_type": "code",
      "metadata": {
        "id": "NQan90Jz5tDo",
        "outputId": "bdb0f6b0-0b85-4c5f-bf38-14fbd1343434",
        "colab": {
          "base_uri": "https://localhost:8080/",
          "height": 204
        }
      },
      "source": [
        "future = model.make_future_dataframe(periods=7)\n",
        "future.tail()"
      ],
      "execution_count": null,
      "outputs": [
        {
          "output_type": "execute_result",
          "data": {
            "text/html": [
              "<div>\n",
              "<style scoped>\n",
              "    .dataframe tbody tr th:only-of-type {\n",
              "        vertical-align: middle;\n",
              "    }\n",
              "\n",
              "    .dataframe tbody tr th {\n",
              "        vertical-align: top;\n",
              "    }\n",
              "\n",
              "    .dataframe thead th {\n",
              "        text-align: right;\n",
              "    }\n",
              "</style>\n",
              "<table border=\"1\" class=\"dataframe\">\n",
              "  <thead>\n",
              "    <tr style=\"text-align: right;\">\n",
              "      <th></th>\n",
              "      <th>ds</th>\n",
              "    </tr>\n",
              "  </thead>\n",
              "  <tbody>\n",
              "    <tr>\n",
              "      <th>124</th>\n",
              "      <td>2020-05-25</td>\n",
              "    </tr>\n",
              "    <tr>\n",
              "      <th>125</th>\n",
              "      <td>2020-05-26</td>\n",
              "    </tr>\n",
              "    <tr>\n",
              "      <th>126</th>\n",
              "      <td>2020-05-27</td>\n",
              "    </tr>\n",
              "    <tr>\n",
              "      <th>127</th>\n",
              "      <td>2020-05-28</td>\n",
              "    </tr>\n",
              "    <tr>\n",
              "      <th>128</th>\n",
              "      <td>2020-05-29</td>\n",
              "    </tr>\n",
              "  </tbody>\n",
              "</table>\n",
              "</div>"
            ],
            "text/plain": [
              "            ds\n",
              "124 2020-05-25\n",
              "125 2020-05-26\n",
              "126 2020-05-27\n",
              "127 2020-05-28\n",
              "128 2020-05-29"
            ]
          },
          "metadata": {
            "tags": []
          },
          "execution_count": 34
        }
      ]
    },
    {
      "cell_type": "code",
      "metadata": {
        "id": "Usamz_vj6SdA"
      },
      "source": [
        "forecasting = model.predict(future)"
      ],
      "execution_count": null,
      "outputs": []
    },
    {
      "cell_type": "code",
      "metadata": {
        "id": "RU9saHaB6aZf",
        "outputId": "adc09abe-9e2c-4c82-d010-946b99508f02",
        "colab": {
          "base_uri": "https://localhost:8080/",
          "height": 309
        }
      },
      "source": [
        "forecasting.tail()"
      ],
      "execution_count": null,
      "outputs": [
        {
          "output_type": "execute_result",
          "data": {
            "text/html": [
              "<div>\n",
              "<style scoped>\n",
              "    .dataframe tbody tr th:only-of-type {\n",
              "        vertical-align: middle;\n",
              "    }\n",
              "\n",
              "    .dataframe tbody tr th {\n",
              "        vertical-align: top;\n",
              "    }\n",
              "\n",
              "    .dataframe thead th {\n",
              "        text-align: right;\n",
              "    }\n",
              "</style>\n",
              "<table border=\"1\" class=\"dataframe\">\n",
              "  <thead>\n",
              "    <tr style=\"text-align: right;\">\n",
              "      <th></th>\n",
              "      <th>ds</th>\n",
              "      <th>trend</th>\n",
              "      <th>yhat_lower</th>\n",
              "      <th>yhat_upper</th>\n",
              "      <th>trend_lower</th>\n",
              "      <th>trend_upper</th>\n",
              "      <th>additive_terms</th>\n",
              "      <th>additive_terms_lower</th>\n",
              "      <th>additive_terms_upper</th>\n",
              "      <th>daily</th>\n",
              "      <th>daily_lower</th>\n",
              "      <th>daily_upper</th>\n",
              "      <th>weekly</th>\n",
              "      <th>weekly_lower</th>\n",
              "      <th>weekly_upper</th>\n",
              "      <th>multiplicative_terms</th>\n",
              "      <th>multiplicative_terms_lower</th>\n",
              "      <th>multiplicative_terms_upper</th>\n",
              "      <th>yhat</th>\n",
              "    </tr>\n",
              "  </thead>\n",
              "  <tbody>\n",
              "    <tr>\n",
              "      <th>124</th>\n",
              "      <td>2020-05-25</td>\n",
              "      <td>123755.039146</td>\n",
              "      <td>119219.590009</td>\n",
              "      <td>127628.735493</td>\n",
              "      <td>123174.006987</td>\n",
              "      <td>124329.189035</td>\n",
              "      <td>-210.101596</td>\n",
              "      <td>-210.101596</td>\n",
              "      <td>-210.101596</td>\n",
              "      <td>-161.273887</td>\n",
              "      <td>-161.273887</td>\n",
              "      <td>-161.273887</td>\n",
              "      <td>-48.827710</td>\n",
              "      <td>-48.827710</td>\n",
              "      <td>-48.827710</td>\n",
              "      <td>0.0</td>\n",
              "      <td>0.0</td>\n",
              "      <td>0.0</td>\n",
              "      <td>123544.937549</td>\n",
              "    </tr>\n",
              "    <tr>\n",
              "      <th>125</th>\n",
              "      <td>2020-05-26</td>\n",
              "      <td>127260.225124</td>\n",
              "      <td>122987.037998</td>\n",
              "      <td>131641.787558</td>\n",
              "      <td>126281.027787</td>\n",
              "      <td>128177.981365</td>\n",
              "      <td>-150.265835</td>\n",
              "      <td>-150.265835</td>\n",
              "      <td>-150.265835</td>\n",
              "      <td>-161.273887</td>\n",
              "      <td>-161.273887</td>\n",
              "      <td>-161.273887</td>\n",
              "      <td>11.008051</td>\n",
              "      <td>11.008051</td>\n",
              "      <td>11.008051</td>\n",
              "      <td>0.0</td>\n",
              "      <td>0.0</td>\n",
              "      <td>0.0</td>\n",
              "      <td>127109.959289</td>\n",
              "    </tr>\n",
              "    <tr>\n",
              "      <th>126</th>\n",
              "      <td>2020-05-27</td>\n",
              "      <td>130765.411103</td>\n",
              "      <td>126227.097052</td>\n",
              "      <td>134963.514147</td>\n",
              "      <td>129417.153088</td>\n",
              "      <td>132046.394136</td>\n",
              "      <td>-83.780920</td>\n",
              "      <td>-83.780920</td>\n",
              "      <td>-83.780920</td>\n",
              "      <td>-161.273887</td>\n",
              "      <td>-161.273887</td>\n",
              "      <td>-161.273887</td>\n",
              "      <td>77.492967</td>\n",
              "      <td>77.492967</td>\n",
              "      <td>77.492967</td>\n",
              "      <td>0.0</td>\n",
              "      <td>0.0</td>\n",
              "      <td>0.0</td>\n",
              "      <td>130681.630183</td>\n",
              "    </tr>\n",
              "    <tr>\n",
              "      <th>127</th>\n",
              "      <td>2020-05-28</td>\n",
              "      <td>134270.597081</td>\n",
              "      <td>130081.666948</td>\n",
              "      <td>138737.529531</td>\n",
              "      <td>132579.750899</td>\n",
              "      <td>135904.803271</td>\n",
              "      <td>45.594186</td>\n",
              "      <td>45.594186</td>\n",
              "      <td>45.594186</td>\n",
              "      <td>-161.273887</td>\n",
              "      <td>-161.273887</td>\n",
              "      <td>-161.273887</td>\n",
              "      <td>206.868073</td>\n",
              "      <td>206.868073</td>\n",
              "      <td>206.868073</td>\n",
              "      <td>0.0</td>\n",
              "      <td>0.0</td>\n",
              "      <td>0.0</td>\n",
              "      <td>134316.191267</td>\n",
              "    </tr>\n",
              "    <tr>\n",
              "      <th>128</th>\n",
              "      <td>2020-05-29</td>\n",
              "      <td>137775.783059</td>\n",
              "      <td>133035.572477</td>\n",
              "      <td>142670.622547</td>\n",
              "      <td>135485.553770</td>\n",
              "      <td>139827.437337</td>\n",
              "      <td>140.268451</td>\n",
              "      <td>140.268451</td>\n",
              "      <td>140.268451</td>\n",
              "      <td>-161.273887</td>\n",
              "      <td>-161.273887</td>\n",
              "      <td>-161.273887</td>\n",
              "      <td>301.542338</td>\n",
              "      <td>301.542338</td>\n",
              "      <td>301.542338</td>\n",
              "      <td>0.0</td>\n",
              "      <td>0.0</td>\n",
              "      <td>0.0</td>\n",
              "      <td>137916.051510</td>\n",
              "    </tr>\n",
              "  </tbody>\n",
              "</table>\n",
              "</div>"
            ],
            "text/plain": [
              "            ds          trend  ...  multiplicative_terms_upper           yhat\n",
              "124 2020-05-25  123755.039146  ...                         0.0  123544.937549\n",
              "125 2020-05-26  127260.225124  ...                         0.0  127109.959289\n",
              "126 2020-05-27  130765.411103  ...                         0.0  130681.630183\n",
              "127 2020-05-28  134270.597081  ...                         0.0  134316.191267\n",
              "128 2020-05-29  137775.783059  ...                         0.0  137916.051510\n",
              "\n",
              "[5 rows x 19 columns]"
            ]
          },
          "metadata": {
            "tags": []
          },
          "execution_count": 36
        }
      ]
    },
    {
      "cell_type": "code",
      "metadata": {
        "id": "GT2dlw2V6cg_",
        "outputId": "d7f5b563-f57d-425c-bf4f-f0e55545ab31",
        "colab": {
          "base_uri": "https://localhost:8080/",
          "height": 269
        }
      },
      "source": [
        "forecasting[['ds','yhat','yhat_lower','yhat_upper']].tail(7)"
      ],
      "execution_count": null,
      "outputs": [
        {
          "output_type": "execute_result",
          "data": {
            "text/html": [
              "<div>\n",
              "<style scoped>\n",
              "    .dataframe tbody tr th:only-of-type {\n",
              "        vertical-align: middle;\n",
              "    }\n",
              "\n",
              "    .dataframe tbody tr th {\n",
              "        vertical-align: top;\n",
              "    }\n",
              "\n",
              "    .dataframe thead th {\n",
              "        text-align: right;\n",
              "    }\n",
              "</style>\n",
              "<table border=\"1\" class=\"dataframe\">\n",
              "  <thead>\n",
              "    <tr style=\"text-align: right;\">\n",
              "      <th></th>\n",
              "      <th>ds</th>\n",
              "      <th>yhat</th>\n",
              "      <th>yhat_lower</th>\n",
              "      <th>yhat_upper</th>\n",
              "    </tr>\n",
              "  </thead>\n",
              "  <tbody>\n",
              "    <tr>\n",
              "      <th>107</th>\n",
              "      <td>2020-05-08</td>\n",
              "      <td>51220.688691</td>\n",
              "      <td>48918.654312</td>\n",
              "      <td>53705.704399</td>\n",
              "    </tr>\n",
              "    <tr>\n",
              "      <th>108</th>\n",
              "      <td>2020-05-09</td>\n",
              "      <td>53023.519699</td>\n",
              "      <td>50741.098396</td>\n",
              "      <td>55245.975206</td>\n",
              "    </tr>\n",
              "    <tr>\n",
              "      <th>109</th>\n",
              "      <td>2020-05-10</td>\n",
              "      <td>54863.261799</td>\n",
              "      <td>52473.166751</td>\n",
              "      <td>57196.912607</td>\n",
              "    </tr>\n",
              "    <tr>\n",
              "      <th>110</th>\n",
              "      <td>2020-05-11</td>\n",
              "      <td>56760.758708</td>\n",
              "      <td>54358.260867</td>\n",
              "      <td>59208.548268</td>\n",
              "    </tr>\n",
              "    <tr>\n",
              "      <th>111</th>\n",
              "      <td>2020-05-12</td>\n",
              "      <td>58589.283314</td>\n",
              "      <td>56180.307672</td>\n",
              "      <td>60992.724081</td>\n",
              "    </tr>\n",
              "    <tr>\n",
              "      <th>112</th>\n",
              "      <td>2020-05-13</td>\n",
              "      <td>60456.145760</td>\n",
              "      <td>57898.833401</td>\n",
              "      <td>62769.727284</td>\n",
              "    </tr>\n",
              "    <tr>\n",
              "      <th>113</th>\n",
              "      <td>2020-05-14</td>\n",
              "      <td>62305.674784</td>\n",
              "      <td>59804.166351</td>\n",
              "      <td>64855.523010</td>\n",
              "    </tr>\n",
              "  </tbody>\n",
              "</table>\n",
              "</div>"
            ],
            "text/plain": [
              "            ds          yhat    yhat_lower    yhat_upper\n",
              "107 2020-05-08  51220.688691  48918.654312  53705.704399\n",
              "108 2020-05-09  53023.519699  50741.098396  55245.975206\n",
              "109 2020-05-10  54863.261799  52473.166751  57196.912607\n",
              "110 2020-05-11  56760.758708  54358.260867  59208.548268\n",
              "111 2020-05-12  58589.283314  56180.307672  60992.724081\n",
              "112 2020-05-13  60456.145760  57898.833401  62769.727284\n",
              "113 2020-05-14  62305.674784  59804.166351  64855.523010"
            ]
          },
          "metadata": {
            "tags": []
          },
          "execution_count": 74
        }
      ]
    },
    {
      "cell_type": "code",
      "metadata": {
        "id": "-_9ZLagl6soB",
        "outputId": "c93030b3-7f6a-452b-8026-8e52c77444d6",
        "colab": {
          "base_uri": "https://localhost:8080/",
          "height": 441
        }
      },
      "source": [
        "confirmed_plot = model.plot(forecasting)"
      ],
      "execution_count": null,
      "outputs": [
        {
          "output_type": "display_data",
          "data": {
            "image/png": "[encoded data removed]",
            "text/plain": [
              "<Figure size 720x432 with 1 Axes>"
            ]
          },
          "metadata": {
            "tags": []
          }
        }
      ]
    },
    {
      "cell_type": "code",
      "metadata": {
        "id": "Y5ka_s3h65QG",
        "outputId": "4e411843-c9bf-4a24-d3d1-251324de4c6c",
        "colab": {
          "base_uri": "https://localhost:8080/",
          "height": 657
        }
      },
      "source": [
        "fig2 = model.plot_components(forecasting)"
      ],
      "execution_count": null,
      "outputs": [
        {
          "output_type": "display_data",
          "data": {
            "image/png": "[encoded data removed]",
            "text/plain": [
              "<Figure size 648x648 with 3 Axes>"
            ]
          },
          "metadata": {
            "tags": []
          }
        }
      ]
    },
    {
      "cell_type": "code",
      "metadata": {
        "id": "grXfw_UV9XD4"
      },
      "source": [
        "Death = df.groupby('Date')['Deaths'].sum().reset_index()"
      ],
      "execution_count": null,
      "outputs": []
    },
    {
      "cell_type": "code",
      "metadata": {
        "id": "uh1vs3lfDkdq"
      },
      "source": [
        "Death.rename(columns={'Date':'ds','Deaths':'y'},inplace=True)"
      ],
      "execution_count": null,
      "outputs": []
    },
    {
      "cell_type": "code",
      "metadata": {
        "id": "3fgGmOt2DV_A",
        "outputId": "79b8b891-4209-45e2-bf00-c067042a8ad6",
        "colab": {
          "base_uri": "https://localhost:8080/"
        }
      },
      "source": [
        "model = Prophet(daily_seasonality=True, interval_width=0.95)   #confidance level\n",
        "model.fit(Death)"
      ],
      "execution_count": null,
      "outputs": [
        {
          "output_type": "stream",
          "text": [
            "INFO:fbprophet:Disabling yearly seasonality. Run prophet with yearly_seasonality=True to override this.\n"
          ],
          "name": "stderr"
        },
        {
          "output_type": "execute_result",
          "data": {
            "text/plain": [
              "<fbprophet.forecaster.Prophet at 0x7f687b277cc0>"
            ]
          },
          "metadata": {
            "tags": []
          },
          "execution_count": 39
        }
      ]
    },
    {
      "cell_type": "code",
      "metadata": {
        "id": "1x_01N5VDeZS",
        "outputId": "89c7d92c-060f-4a50-ce45-b5997002e1aa",
        "colab": {
          "base_uri": "https://localhost:8080/",
          "height": 204
        }
      },
      "source": [
        "future = model.make_future_dataframe(periods=7)\n",
        "future.tail()"
      ],
      "execution_count": null,
      "outputs": [
        {
          "output_type": "execute_result",
          "data": {
            "text/html": [
              "<div>\n",
              "<style scoped>\n",
              "    .dataframe tbody tr th:only-of-type {\n",
              "        vertical-align: middle;\n",
              "    }\n",
              "\n",
              "    .dataframe tbody tr th {\n",
              "        vertical-align: top;\n",
              "    }\n",
              "\n",
              "    .dataframe thead th {\n",
              "        text-align: right;\n",
              "    }\n",
              "</style>\n",
              "<table border=\"1\" class=\"dataframe\">\n",
              "  <thead>\n",
              "    <tr style=\"text-align: right;\">\n",
              "      <th></th>\n",
              "      <th>ds</th>\n",
              "    </tr>\n",
              "  </thead>\n",
              "  <tbody>\n",
              "    <tr>\n",
              "      <th>190</th>\n",
              "      <td>2020-07-30</td>\n",
              "    </tr>\n",
              "    <tr>\n",
              "      <th>191</th>\n",
              "      <td>2020-07-31</td>\n",
              "    </tr>\n",
              "    <tr>\n",
              "      <th>192</th>\n",
              "      <td>2020-08-01</td>\n",
              "    </tr>\n",
              "    <tr>\n",
              "      <th>193</th>\n",
              "      <td>2020-08-02</td>\n",
              "    </tr>\n",
              "    <tr>\n",
              "      <th>194</th>\n",
              "      <td>2020-08-03</td>\n",
              "    </tr>\n",
              "  </tbody>\n",
              "</table>\n",
              "</div>"
            ],
            "text/plain": [
              "            ds\n",
              "190 2020-07-30\n",
              "191 2020-07-31\n",
              "192 2020-08-01\n",
              "193 2020-08-02\n",
              "194 2020-08-03"
            ]
          },
          "metadata": {
            "tags": []
          },
          "execution_count": 103
        }
      ]
    },
    {
      "cell_type": "code",
      "metadata": {
        "id": "4chm9IMCDxzI"
      },
      "source": [
        "forecasting = model.predict(future)"
      ],
      "execution_count": null,
      "outputs": []
    },
    {
      "cell_type": "code",
      "metadata": {
        "id": "4_58gSgQD215",
        "outputId": "0de6b4c6-b26c-495c-b885-2de48f8cbf06",
        "colab": {
          "base_uri": "https://localhost:8080/",
          "height": 266
        }
      },
      "source": [
        "forecasting[['ds','yhat','yhat_lower','yhat_upper']].tail(7)"
      ],
      "execution_count": null,
      "outputs": [
        {
          "output_type": "execute_result",
          "data": {
            "text/html": [
              "<div>\n",
              "<style scoped>\n",
              "    .dataframe tbody tr th:only-of-type {\n",
              "        vertical-align: middle;\n",
              "    }\n",
              "\n",
              "    .dataframe tbody tr th {\n",
              "        vertical-align: top;\n",
              "    }\n",
              "\n",
              "    .dataframe thead th {\n",
              "        text-align: right;\n",
              "    }\n",
              "</style>\n",
              "<table border=\"1\" class=\"dataframe\">\n",
              "  <thead>\n",
              "    <tr style=\"text-align: right;\">\n",
              "      <th></th>\n",
              "      <th>ds</th>\n",
              "      <th>yhat</th>\n",
              "      <th>yhat_lower</th>\n",
              "      <th>yhat_upper</th>\n",
              "    </tr>\n",
              "  </thead>\n",
              "  <tbody>\n",
              "    <tr>\n",
              "      <th>122</th>\n",
              "      <td>2020-05-23</td>\n",
              "      <td>3677.369997</td>\n",
              "      <td>3615.491262</td>\n",
              "      <td>3738.924448</td>\n",
              "    </tr>\n",
              "    <tr>\n",
              "      <th>123</th>\n",
              "      <td>2020-05-24</td>\n",
              "      <td>3788.434240</td>\n",
              "      <td>3726.887587</td>\n",
              "      <td>3852.040284</td>\n",
              "    </tr>\n",
              "    <tr>\n",
              "      <th>124</th>\n",
              "      <td>2020-05-25</td>\n",
              "      <td>3903.119419</td>\n",
              "      <td>3844.814667</td>\n",
              "      <td>3969.454294</td>\n",
              "    </tr>\n",
              "    <tr>\n",
              "      <th>125</th>\n",
              "      <td>2020-05-26</td>\n",
              "      <td>4014.418765</td>\n",
              "      <td>3945.633133</td>\n",
              "      <td>4088.180701</td>\n",
              "    </tr>\n",
              "    <tr>\n",
              "      <th>126</th>\n",
              "      <td>2020-05-27</td>\n",
              "      <td>4123.016440</td>\n",
              "      <td>4045.748010</td>\n",
              "      <td>4194.911856</td>\n",
              "    </tr>\n",
              "    <tr>\n",
              "      <th>127</th>\n",
              "      <td>2020-05-28</td>\n",
              "      <td>4233.948690</td>\n",
              "      <td>4156.453527</td>\n",
              "      <td>4310.460894</td>\n",
              "    </tr>\n",
              "    <tr>\n",
              "      <th>128</th>\n",
              "      <td>2020-05-29</td>\n",
              "      <td>4342.027075</td>\n",
              "      <td>4250.469785</td>\n",
              "      <td>4437.071940</td>\n",
              "    </tr>\n",
              "  </tbody>\n",
              "</table>\n",
              "</div>"
            ],
            "text/plain": [
              "            ds         yhat   yhat_lower   yhat_upper\n",
              "122 2020-05-23  3677.369997  3615.491262  3738.924448\n",
              "123 2020-05-24  3788.434240  3726.887587  3852.040284\n",
              "124 2020-05-25  3903.119419  3844.814667  3969.454294\n",
              "125 2020-05-26  4014.418765  3945.633133  4088.180701\n",
              "126 2020-05-27  4123.016440  4045.748010  4194.911856\n",
              "127 2020-05-28  4233.948690  4156.453527  4310.460894\n",
              "128 2020-05-29  4342.027075  4250.469785  4437.071940"
            ]
          },
          "metadata": {
            "tags": []
          },
          "execution_count": 41
        }
      ]
    },
    {
      "cell_type": "code",
      "metadata": {
        "id": "DQ_jvQr0D8jR",
        "outputId": "56de4355-0f84-419d-a6bd-edc5a6c184fc",
        "colab": {
          "base_uri": "https://localhost:8080/",
          "height": 441
        }
      },
      "source": [
        "deaths_plot = model.plot(forecasting)"
      ],
      "execution_count": null,
      "outputs": [
        {
          "output_type": "display_data",
          "data": {
            "image/png": "[encoded data removed]",
            "text/plain": [
              "<Figure size 720x432 with 1 Axes>"
            ]
          },
          "metadata": {
            "tags": []
          }
        }
      ]
    },
    {
      "cell_type": "code",
      "metadata": {
        "id": "vVcriR__EH-l",
        "outputId": "5174b843-18a4-437f-c9f1-909e18c3550e",
        "colab": {
          "base_uri": "https://localhost:8080/",
          "height": 657
        }
      },
      "source": [
        "fig2 = model.plot_components(forecasting)"
      ],
      "execution_count": null,
      "outputs": [
        {
          "output_type": "display_data",
          "data": {
            "image/png": "[encoded data removed]",
            "text/plain": [
              "<Figure size 648x648 with 3 Axes>"
            ]
          },
          "metadata": {
            "tags": []
          }
        }
      ]
    },
    {
      "cell_type": "code",
      "metadata": {
        "id": "nSMeYPWKEgTO"
      },
      "source": [],
      "execution_count": null,
      "outputs": []
    }
  ]
}